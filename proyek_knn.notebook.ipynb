{
 "cells": [
  {
   "cell_type": "markdown",
   "id": "2d971d0a",
   "metadata": {},
   "source": [
    "# Proyek Akhir Kecerdasan Buatan - Bagian 2\n",
    "\n",
    "## Klasifikasi Kategori Buku dengan k-Nearest Neighbors (k-NN)\n",
    "\n",
    "Notebook ini mengimplementasikan algoritma k-NN untuk memprediksi kategori sebuah buku berdasarkan judulnya.\n"
   ]
  },
  {
   "cell_type": "code",
   "execution_count": 1,
   "id": "b128ec58",
   "metadata": {},
   "outputs": [
    {
     "name": "stdout",
     "output_type": "stream",
     "text": [
      "Library yang dibutuhkan telah diimpor.\n"
     ]
    }
   ],
   "source": [
    "# --- Cell 2: Impor Library ---\n",
    "import pandas as pd\n",
    "from sklearn.feature_extraction.text import TfidfVectorizer\n",
    "from sklearn.neighbors import KNeighborsClassifier\n",
    "from sklearn.model_selection import train_test_split # Meskipun tidak dipakai di sini, ini adalah praktik yang baik\n",
    "import string\n",
    "\n",
    "def preprocess_judul(judul):\n",
    "    # Lowercase dan hapus tanda baca\n",
    "    return judul.lower().translate(str.maketrans('', '', string.punctuation))\n",
    "\n",
    "print(\"Library yang dibutuhkan telah diimpor.\")"
   ]
  },
  {
   "cell_type": "markdown",
   "id": "8ffe85c3",
   "metadata": {},
   "source": [
    "### Membuat Dataset\n",
    "\n",
    "Kita akan membuat dataset sederhana berisi 20 judul buku beserta kategorinya. Data ini kita definisikan sebagai list of dictionaries di Python.\n"
   ]
  },
  {
   "cell_type": "code",
   "execution_count": 2,
   "id": "2f78bd5b",
   "metadata": {},
   "outputs": [
    {
     "name": "stdout",
     "output_type": "stream",
     "text": [
      "Dataset berisi 20 judul buku.\n"
     ]
    }
   ],
   "source": [
    "# --- Cell 4: Mendefinisikan Dataset Buku ---\n",
    "data_training = [\n",
    "    # Teknologi\n",
    "    ('Belajar Pemrograman Python untuk Pemula', 'Teknologi'),\n",
    "    ('Dasar-dasar Jaringan Komputer', 'Teknologi'),\n",
    "    ('Panduan Lengkap Microsoft Excel', 'Teknologi'),\n",
    "    ('Teknologi Informasi Masa Kini', 'Teknologi'),\n",
    "    ('Pemrograman Web dengan JavaScript', 'Teknologi'),\n",
    "\n",
    "    # Fiksi\n",
    "    ('Bumi Manusia dan Jejak Langkah', 'Fiksi'),\n",
    "    ('Laskar Pelangi', 'Fiksi'),\n",
    "    ('Negeri 5 Menara', 'Fiksi'),\n",
    "    ('Perahu Kertas', 'Fiksi'),\n",
    "    ('Ayat-Ayat Cinta', 'Fiksi'),\n",
    "\n",
    "    # Sains\n",
    "    ('Sejarah Singkat Waktu dan Alam Semesta', 'Sains'),\n",
    "    ('Fisika untuk Siswa SMA', 'Sains'),\n",
    "    ('Kimia Dasar', 'Sains'),\n",
    "    ('Biologi Modern', 'Sains'),\n",
    "    ('Matematika untuk Kehidupan', 'Sains'),\n",
    "\n",
    "    # Bisnis\n",
    "    ('Cara Cerdas Mengelola Keuangan Pribadi', 'Bisnis'),\n",
    "    ('Strategi Sukses Berbisnis Online', 'Bisnis'),\n",
    "    ('Investasi Saham untuk Pemula', 'Bisnis'),\n",
    "    ('Manajemen Sumber Daya Manusia', 'Bisnis'),\n",
    "    ('Marketing 4.0', 'Bisnis'),\n",
    "]\n",
    "\n",
    "print(f\"Dataset berisi {len(data_training)} judul buku.\")"
   ]
  },
  {
   "cell_type": "markdown",
   "id": "e47d8cbf",
   "metadata": {},
   "source": [
    "### Memuat Data ke dalam DataFrame Pandas\n",
    "\n",
    "Untuk mempermudah pemrosesan, kita ubah data kita ke dalam format tabel menggunakan library Pandas. Ini adalah praktik standar dalam proyek data science.\n"
   ]
  },
  {
   "cell_type": "code",
   "execution_count": 3,
   "id": "41868ea4",
   "metadata": {},
   "outputs": [
    {
     "data": {
      "text/html": [
       "<div>\n",
       "<style scoped>\n",
       "    .dataframe tbody tr th:only-of-type {\n",
       "        vertical-align: middle;\n",
       "    }\n",
       "\n",
       "    .dataframe tbody tr th {\n",
       "        vertical-align: top;\n",
       "    }\n",
       "\n",
       "    .dataframe thead th {\n",
       "        text-align: right;\n",
       "    }\n",
       "</style>\n",
       "<table border=\"1\" class=\"dataframe\">\n",
       "  <thead>\n",
       "    <tr style=\"text-align: right;\">\n",
       "      <th></th>\n",
       "      <th>judul</th>\n",
       "      <th>kategori</th>\n",
       "    </tr>\n",
       "  </thead>\n",
       "  <tbody>\n",
       "    <tr>\n",
       "      <th>0</th>\n",
       "      <td>Belajar Pemrograman Python untuk Pemula</td>\n",
       "      <td>Teknologi</td>\n",
       "    </tr>\n",
       "    <tr>\n",
       "      <th>1</th>\n",
       "      <td>Dasar-dasar Jaringan Komputer</td>\n",
       "      <td>Teknologi</td>\n",
       "    </tr>\n",
       "    <tr>\n",
       "      <th>2</th>\n",
       "      <td>Panduan Lengkap Microsoft Excel</td>\n",
       "      <td>Teknologi</td>\n",
       "    </tr>\n",
       "    <tr>\n",
       "      <th>3</th>\n",
       "      <td>Teknologi Informasi Masa Kini</td>\n",
       "      <td>Teknologi</td>\n",
       "    </tr>\n",
       "    <tr>\n",
       "      <th>4</th>\n",
       "      <td>Pemrograman Web dengan JavaScript</td>\n",
       "      <td>Teknologi</td>\n",
       "    </tr>\n",
       "  </tbody>\n",
       "</table>\n",
       "</div>"
      ],
      "text/plain": [
       "                                     judul   kategori\n",
       "0  Belajar Pemrograman Python untuk Pemula  Teknologi\n",
       "1            Dasar-dasar Jaringan Komputer  Teknologi\n",
       "2          Panduan Lengkap Microsoft Excel  Teknologi\n",
       "3            Teknologi Informasi Masa Kini  Teknologi\n",
       "4        Pemrograman Web dengan JavaScript  Teknologi"
      ]
     },
     "execution_count": 3,
     "metadata": {},
     "output_type": "execute_result"
    }
   ],
   "source": [
    "# --- Cell 6: Membuat dan Menampilkan DataFrame ---\n",
    "df = pd.DataFrame(data_training, columns=['judul', 'kategori'])\n",
    "\n",
    "# Menampilkan 5 baris pertama dari data\n",
    "df.head()"
   ]
  },
  {
   "cell_type": "markdown",
   "id": "18f4fade",
   "metadata": {},
   "source": [
    "### Langkah 3: Vektorisasi Teks (TF-IDF)\n",
    "\n",
    "Sekarang kita ubah data teks (judul buku) menjadi representasi numerik (vektor) menggunakan TF-IDF. Ini memungkinkan algoritma untuk menghitung \"kemiripan\" antar judul.\n",
    "\n",
    "Kita akan memisahkan data kita menjadi dua:\n",
    "\n",
    "- `X`: Fitur (data input), yaitu **judul** buku.\n",
    "- `y`: Label (data output), yaitu **kategori** buku.\n"
   ]
  },
  {
   "cell_type": "code",
   "execution_count": 4,
   "id": "99046dcd",
   "metadata": {},
   "outputs": [
    {
     "name": "stdout",
     "output_type": "stream",
     "text": [
      "Proses vektorisasi selesai.\n",
      "Dimensi matriks TF-IDF: (20, 60)\n",
      "Artinya, kita punya 20 baris (buku) dan setiap buku direpresentasikan oleh vektor dengan sejumlah fitur (kata unik).\n"
     ]
    }
   ],
   "source": [
    "# --- Cell 8: Proses Vektorisasi ---\n",
    "\n",
    "# 1. Inisialisasi TfidfVectorizer\n",
    "vectorizer = TfidfVectorizer()\n",
    "\n",
    "# 2. Pisahkan fitur (X) dan label (y) dari DataFrame\n",
    "X = df['judul']\n",
    "y = df['kategori']\n",
    "\n",
    "# 3. Ubah teks judul menjadi matriks TF-IDF\n",
    "X_vec = vectorizer.fit_transform(X)\n",
    "\n",
    "print(\"Proses vektorisasi selesai.\")\n",
    "print(f\"Dimensi matriks TF-IDF: {X_vec.shape}\")\n",
    "print(\"Artinya, kita punya 20 baris (buku) dan setiap buku direpresentasikan oleh vektor dengan sejumlah fitur (kata unik).\")\n",
    "# Catatan: Jumlah fitur (kata unik) bisa sedikit berbeda tergantung versi library."
   ]
  },
  {
   "cell_type": "markdown",
   "id": "d9cc6b1a",
   "metadata": {},
   "source": [
    "### Langkah 4: Membuat dan Melatih Model k-NN\n",
    "\n",
    "Dengan data yang sudah berbentuk vektor, kita sekarang siap untuk membuat model `KNeighborsClassifier`. Kita akan memilih `k=3`, yang berarti model akan melihat 3 tetangga terdekat untuk melakukan prediksi.\n"
   ]
  },
  {
   "cell_type": "code",
   "execution_count": 5,
   "id": "2d52bde3",
   "metadata": {},
   "outputs": [
    {
     "name": "stdout",
     "output_type": "stream",
     "text": [
      "Model k-NN dengan k=3 telah 'dilatih' dan siap digunakan.\n"
     ]
    }
   ],
   "source": [
    "# --- Cell 10: Membuat & Melatih Model k-NN ---\n",
    "\n",
    "# 1. Tentukan jumlah tetangga (k)\n",
    "k = 3\n",
    "\n",
    "# 2. Inisialisasi model KNeighborsClassifier\n",
    "model = KNeighborsClassifier(n_neighbors=k)\n",
    "\n",
    "# 3. Latih model dengan data vektor dan labelnya\n",
    "# Untuk k-NN, tahap ini hanyalah proses menyimpan data\n",
    "model.fit(X_vec, y)\n",
    "\n",
    "print(f\"Model k-NN dengan k={k} telah 'dilatih' dan siap digunakan.\")"
   ]
  },
  {
   "cell_type": "markdown",
   "id": "524f805c",
   "metadata": {},
   "source": [
    "### Langkah 5: Melakukan Prediksi pada Data Baru\n",
    "\n",
    "Ini adalah tahap pengujian. Kita akan memberikan beberapa judul buku baru yang tidak ada dalam dataset untuk melihat seberapa baik model kita dalam mengklasifikasikan.\n"
   ]
  },
  {
   "cell_type": "code",
   "execution_count": 6,
   "id": "b0e589af",
   "metadata": {},
   "outputs": [
    {
     "name": "stdout",
     "output_type": "stream",
     "text": [
      "--- Memulai Prediksi untuk Buku Baru ---\n",
      "\n",
      "Judul: 'Panduan Pemrograman Python untuk Pemula'\n",
      "--> Prediksi Kategori: Teknologi\n",
      "\n",
      "Judul: 'Informasi Teknologi Terkini'\n",
      "--> Prediksi Kategori: Teknologi\n",
      "\n",
      "Judul: 'Belajar JavaScript untuk Web'\n",
      "--> Prediksi Kategori: Teknologi\n",
      "\n",
      "Judul: 'Kisah Perahu Kertas'\n",
      "--> Prediksi Kategori: Fiksi\n",
      "\n",
      "Judul: 'Cinta dalam Ayat-Ayat'\n",
      "--> Prediksi Kategori: Fiksi\n",
      "\n",
      "Judul: 'Fisika SMA Modern'\n",
      "--> Prediksi Kategori: Sains\n",
      "\n",
      "Judul: 'Matematika dan Kehidupan'\n",
      "--> Prediksi Kategori: Sains\n",
      "\n",
      "Judul: 'Mengelola Keuangan Pribadi dengan Cerdas'\n",
      "--> Prediksi Kategori: Bisnis\n",
      "\n",
      "Judul: 'Sukses Bisnis Online'\n",
      "--> Prediksi Kategori: Bisnis\n",
      "\n",
      "Judul: 'Panduan Investasi Saham'\n",
      "--> Prediksi Kategori: Bisnis\n",
      "\n",
      "Judul: 'Manajemen SDM Modern'\n",
      "--> Prediksi Kategori: Bisnis\n",
      "\n",
      "Judul: 'Marketing Digital Masa Kini'\n",
      "--> Prediksi Kategori: Bisnis\n"
     ]
    }
   ],
   "source": [
    "# --- Cell 12: Menguji Model dengan Data Baru ---\n",
    "\n",
    "# Daftar judul buku baru yang ingin kita prediksi\n",
    "buku_baru = [\n",
    "    \"Panduan Pemrograman Python untuk Pemula\",\n",
    "    \"Informasi Teknologi Terkini\",\n",
    "    \"Belajar JavaScript untuk Web\",\n",
    "    \"Kisah Perahu Kertas\",\n",
    "    \"Cinta dalam Ayat-Ayat\",\n",
    "    \"Fisika SMA Modern\",\n",
    "    \"Matematika dan Kehidupan\",\n",
    "    \"Mengelola Keuangan Pribadi dengan Cerdas\",\n",
    "    \"Sukses Bisnis Online\",\n",
    "    \"Panduan Investasi Saham\",\n",
    "    \"Manajemen SDM Modern\",\n",
    "    \"Marketing Digital Masa Kini\"\n",
    "]\n",
    "\n",
    "\n",
    "print(\"--- Memulai Prediksi untuk Buku Baru ---\")\n",
    "\n",
    "# Ubah judul baru menjadi matriks TF-IDF menggunakan vectorizer yang SUDAH DILATIH\n",
    "vektor_buku_baru = vectorizer.transform(buku_baru)\n",
    "\n",
    "# Lakukan prediksi\n",
    "prediksi_kategori = model.predict(vektor_buku_baru)\n",
    "\n",
    "# Tampilkan hasilnya\n",
    "for i in range(len(buku_baru)):\n",
    "    print(f\"\\nJudul: '{buku_baru[i]}'\")\n",
    "    print(f\"--> Prediksi Kategori: {prediksi_kategori[i]}\")"
   ]
  }
 ],
 "metadata": {
  "kernelspec": {
   "display_name": "venv",
   "language": "python",
   "name": "python3"
  },
  "language_info": {
   "codemirror_mode": {
    "name": "ipython",
    "version": 3
   },
   "file_extension": ".py",
   "mimetype": "text/x-python",
   "name": "python",
   "nbconvert_exporter": "python",
   "pygments_lexer": "ipython3",
   "version": "3.9.13"
  }
 },
 "nbformat": 4,
 "nbformat_minor": 5
}
